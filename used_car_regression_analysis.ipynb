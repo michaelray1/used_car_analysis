{
 "cells": [
  {
   "cell_type": "markdown",
   "metadata": {},
   "source": [
    "# Using sklearn to predict used car prices"
   ]
  },
  {
   "cell_type": "markdown",
   "metadata": {},
   "source": [
    "In this jupyter notebook, I will use the data set found here on Kaggle (https://www.kaggle.com/datasets/harikrishnareddyb/used-car-price-predictions?select=true_car_listings.csv) to predict the price of used cars. Through the use of this analysis, one could identify possible bargains on used cars by predicting the price of a car using the model and comparing that to what the car is actually being sold for. Whenever my algorithm predicts that a car is worth more than what it is actually selling for, this presents a possible opportunity to go \"bargain hunting\".\n",
    "\n",
    "I model the data with four different machine learning algorithms: decision tree regression, random forest regression, k-nearest neighbors regression, and a neural network. In the comparison section, I compare the three methods to see which performs the best."
   ]
  },
  {
   "cell_type": "markdown",
   "metadata": {},
   "source": [
    "This analysis is structured as follows:\n",
    "\n",
    "1. Data Loading and Exploration\n",
    "\n",
    "2. Data Cleaning and Preparation\n",
    "\n",
    "3. Decision Tree Regression Analysis\n",
    "\n",
    "4. Random Forest Regression Analysis\n",
    "\n",
    "5. KNN (k-nearest neighbors) Regression\n",
    "\n",
    "6. Neural Network\n",
    "\n",
    "7. Comparison/Conclusions"
   ]
  },
  {
   "cell_type": "markdown",
   "metadata": {},
   "source": [
    "### 1. Data Loading and Exploration "
   ]
  },
  {
   "cell_type": "markdown",
   "metadata": {},
   "source": [
    "We begin by loading in any libraries we need as well as the data from a csv file. For the purposes of staying within a reasonable computation time, we use just the first 5,000 data entries."
   ]
  },
  {
   "cell_type": "code",
   "execution_count": 61,
   "metadata": {},
   "outputs": [],
   "source": [
    "%%capture\n",
    "\n",
    "import pandas as pd\n",
    "import sklearn as skl\n",
    "from sklearn.tree import DecisionTreeRegressor\n",
    "from sklearn.ensemble import RandomForestRegressor\n",
    "from sklearn.neighbors import KNeighborsRegressor\n",
    "from sklearn.utils import shuffle\n",
    "import tensorflow as tf\n",
    "from tensorflow import keras\n",
    "from tensorflow.keras import layers\n",
    "import matplotlib.pyplot as plt\n",
    "import seaborn as sns\n",
    "import plotly.express as exp\n",
    "import numpy as np\n",
    "\n",
    "data = pd.read_csv('true_car_listings.csv')\n",
    "shuffled = shuffle(data)\n",
    "data = shuffled.iloc[:5000, :]"
   ]
  },
  {
   "cell_type": "markdown",
   "metadata": {},
   "source": [
    "Let's take a look at our data"
   ]
  },
  {
   "cell_type": "code",
   "execution_count": 62,
   "metadata": {},
   "outputs": [
    {
     "name": "stdout",
     "output_type": "stream",
     "text": [
      "Data shape =  (5000, 8)\n"
     ]
    },
    {
     "data": {
      "text/plain": [
       "<bound method NDFrame.head of         Price  Year  Mileage             City State                Vin  \\\n",
       "36067   29345  2014    32318           Naples    FL  WBA3A9G58ENS64705   \n",
       "282996  13000  2007    65127          Liberal    KS  1ZVFT82H775292291   \n",
       "248442  16800  2016    41898       Santa Rosa    CA  3FA6P0K92GR343801   \n",
       "631933  10969  2015    32596          Phoenix    AZ  1N4AL3AP0FN338959   \n",
       "200446  25999  2015     9140     New Richmond    WI  2C4RC1CG8FR521091   \n",
       "...       ...   ...      ...              ...   ...                ...   \n",
       "693496  26750  2015    28266          Turlock    CA  JN1AZ4EH7FM443900   \n",
       "84568   11990  2014    37150          Batavia    NY  1G11B5SL2EF121676   \n",
       "509488  28890  2016    17544            Miami    FL  1C4BJWDG9GL266593   \n",
       "50681   26989  2009    58927  Saint Augustine    FL  WBSWD93519P361051   \n",
       "16978   31000  2016    33630        Manalapan    NJ  WAUM2AFR0GA008558   \n",
       "\n",
       "             Make           Model  \n",
       "36067         BMW               3  \n",
       "282996       Ford      Mustang2dr  \n",
       "248442       Ford  FusionTitanium  \n",
       "631933     Nissan       Altima2.5  \n",
       "200446   Chrysler            Town  \n",
       "...           ...             ...  \n",
       "693496     Nissan       370ZCoupe  \n",
       "84568   Chevrolet        MalibuLS  \n",
       "509488       Jeep        Wrangler  \n",
       "50681         BMW           M32dr  \n",
       "16978        Audi          A52.0T  \n",
       "\n",
       "[5000 rows x 8 columns]>"
      ]
     },
     "execution_count": 62,
     "metadata": {},
     "output_type": "execute_result"
    }
   ],
   "source": [
    "print('Data shape = ', data.shape)\n",
    "data.head"
   ]
  },
  {
   "cell_type": "markdown",
   "metadata": {},
   "source": [
    "The first thing we notice is the shape of our data. Our data has 8 features and 5,000 rows. This means we have 5,000 total used cars to work with.\n",
    "\n",
    "We also notice that we have categorical data in some cases. City, State, Make, and Model are all categorical variables. Our models don't work with categorical variables, so a little later will use one-hot encoding to turn these into numerical variables. Also later, we will drop the VIN column because every VIN number is unique and unordered. Therefore, the VIN number provides us with no useful information.\n",
    "\n",
    "Before we do this, however, let's try to visualize the numerical data that we have. This is contained in the \"year\" and \"mileage\" columns."
   ]
  },
  {
   "cell_type": "code",
   "execution_count": 63,
   "metadata": {},
   "outputs": [
    {
     "data": {
      "image/png": "[encoded data removed]",
      "text/plain": [
       "<Figure size 720x1440 with 2 Axes>"
      ]
     },
     "metadata": {
      "needs_background": "light"
     },
     "output_type": "display_data"
    }
   ],
   "source": [
    "num_cols = [\"Year\", \"Mileage\"]\n",
    "plt.figure(figsize=(10,20))\n",
    "for index,i in enumerate(num_cols):\n",
    "    plot = plt.subplot(4,2,index+1)\n",
    "    sns.histplot(data[i])\n",
    "    if i=='Mileage':\n",
    "        plot.set(xticks=np.arange(0, 350000, 100000))"
   ]
  },
  {
   "cell_type": "markdown",
   "metadata": {},
   "source": [
    "### 2. Data Cleaning and Preparation"
   ]
  },
  {
   "cell_type": "markdown",
   "metadata": {},
   "source": [
    "Now let's do some data cleaning. As mentioned earlier, let's start by simply dropping the Vin column."
   ]
  },
  {
   "cell_type": "code",
   "execution_count": 64,
   "metadata": {},
   "outputs": [],
   "source": [
    "#Drop VIN\n",
    "data = data.drop(\"Vin\", axis=1)"
   ]
  },
  {
   "cell_type": "markdown",
   "metadata": {},
   "source": [
    "For our categorical variables, we need to turn them into numerical variables somehow. To do this, we'll use one-hot encoding, where each possible value for the variable gets its own column, and the entry in that column is always either zero or one."
   ]
  },
  {
   "cell_type": "code",
   "execution_count": 65,
   "metadata": {},
   "outputs": [],
   "source": [
    "#Get the dummy variables for City, State, Make, and Model\n",
    "dummy_city = pd.get_dummies(data['City'])\n",
    "dummy_state = pd.get_dummies(data['State'])\n",
    "dummy_make = pd.get_dummies(data['Make'])\n",
    "dummy_model = pd.get_dummies(data['Model'])"
   ]
  },
  {
   "cell_type": "code",
   "execution_count": 66,
   "metadata": {},
   "outputs": [],
   "source": [
    "#Use one-hot encoding for each of the categorical variables\n",
    "data = pd.concat([data, dummy_city], axis=1).drop('City', axis=1)\n",
    "data = pd.concat([data, dummy_state], axis=1).drop('State', axis=1)\n",
    "data = pd.concat([data, dummy_make], axis=1).drop('Make', axis=1)\n",
    "data = pd.concat([data, dummy_model], axis=1).drop('Model', axis=1)"
   ]
  },
  {
   "cell_type": "markdown",
   "metadata": {},
   "source": [
    "Now that we've implemented the one-hot encoding, let's see our data shape and the first few rows of the data."
   ]
  },
  {
   "cell_type": "code",
   "execution_count": 67,
   "metadata": {},
   "outputs": [
    {
     "name": "stdout",
     "output_type": "stream",
     "text": [
      "data shape =  (5000, 2555)\n"
     ]
    },
    {
     "data": {
      "text/html": [
       "<div>\n",
       "<style scoped>\n",
       "    .dataframe tbody tr th:only-of-type {\n",
       "        vertical-align: middle;\n",
       "    }\n",
       "\n",
       "    .dataframe tbody tr th {\n",
       "        vertical-align: top;\n",
       "    }\n",
       "\n",
       "    .dataframe thead th {\n",
       "        text-align: right;\n",
       "    }\n",
       "</style>\n",
       "<table border=\"1\" class=\"dataframe\">\n",
       "  <thead>\n",
       "    <tr style=\"text-align: right;\">\n",
       "      <th></th>\n",
       "      <th>Price</th>\n",
       "      <th>Year</th>\n",
       "      <th>Mileage</th>\n",
       "      <th>AUSTIN</th>\n",
       "      <th>AVON</th>\n",
       "      <th>Aberdeen</th>\n",
       "      <th>Abilene</th>\n",
       "      <th>Abington</th>\n",
       "      <th>Acton</th>\n",
       "      <th>Acworth</th>\n",
       "      <th>...</th>\n",
       "      <th>fortwopure</th>\n",
       "      <th>i3Hatchback</th>\n",
       "      <th>iAAutomatic</th>\n",
       "      <th>iQ3dr</th>\n",
       "      <th>tC2dr</th>\n",
       "      <th>tC3dr</th>\n",
       "      <th>tCAutomatic</th>\n",
       "      <th>xB5dr</th>\n",
       "      <th>xBManual</th>\n",
       "      <th>xD5dr</th>\n",
       "    </tr>\n",
       "  </thead>\n",
       "  <tbody>\n",
       "    <tr>\n",
       "      <th>36067</th>\n",
       "      <td>29345</td>\n",
       "      <td>2014</td>\n",
       "      <td>32318</td>\n",
       "      <td>0</td>\n",
       "      <td>0</td>\n",
       "      <td>0</td>\n",
       "      <td>0</td>\n",
       "      <td>0</td>\n",
       "      <td>0</td>\n",
       "      <td>0</td>\n",
       "      <td>...</td>\n",
       "      <td>0</td>\n",
       "      <td>0</td>\n",
       "      <td>0</td>\n",
       "      <td>0</td>\n",
       "      <td>0</td>\n",
       "      <td>0</td>\n",
       "      <td>0</td>\n",
       "      <td>0</td>\n",
       "      <td>0</td>\n",
       "      <td>0</td>\n",
       "    </tr>\n",
       "    <tr>\n",
       "      <th>282996</th>\n",
       "      <td>13000</td>\n",
       "      <td>2007</td>\n",
       "      <td>65127</td>\n",
       "      <td>0</td>\n",
       "      <td>0</td>\n",
       "      <td>0</td>\n",
       "      <td>0</td>\n",
       "      <td>0</td>\n",
       "      <td>0</td>\n",
       "      <td>0</td>\n",
       "      <td>...</td>\n",
       "      <td>0</td>\n",
       "      <td>0</td>\n",
       "      <td>0</td>\n",
       "      <td>0</td>\n",
       "      <td>0</td>\n",
       "      <td>0</td>\n",
       "      <td>0</td>\n",
       "      <td>0</td>\n",
       "      <td>0</td>\n",
       "      <td>0</td>\n",
       "    </tr>\n",
       "    <tr>\n",
       "      <th>248442</th>\n",
       "      <td>16800</td>\n",
       "      <td>2016</td>\n",
       "      <td>41898</td>\n",
       "      <td>0</td>\n",
       "      <td>0</td>\n",
       "      <td>0</td>\n",
       "      <td>0</td>\n",
       "      <td>0</td>\n",
       "      <td>0</td>\n",
       "      <td>0</td>\n",
       "      <td>...</td>\n",
       "      <td>0</td>\n",
       "      <td>0</td>\n",
       "      <td>0</td>\n",
       "      <td>0</td>\n",
       "      <td>0</td>\n",
       "      <td>0</td>\n",
       "      <td>0</td>\n",
       "      <td>0</td>\n",
       "      <td>0</td>\n",
       "      <td>0</td>\n",
       "    </tr>\n",
       "    <tr>\n",
       "      <th>631933</th>\n",
       "      <td>10969</td>\n",
       "      <td>2015</td>\n",
       "      <td>32596</td>\n",
       "      <td>0</td>\n",
       "      <td>0</td>\n",
       "      <td>0</td>\n",
       "      <td>0</td>\n",
       "      <td>0</td>\n",
       "      <td>0</td>\n",
       "      <td>0</td>\n",
       "      <td>...</td>\n",
       "      <td>0</td>\n",
       "      <td>0</td>\n",
       "      <td>0</td>\n",
       "      <td>0</td>\n",
       "      <td>0</td>\n",
       "      <td>0</td>\n",
       "      <td>0</td>\n",
       "      <td>0</td>\n",
       "      <td>0</td>\n",
       "      <td>0</td>\n",
       "    </tr>\n",
       "    <tr>\n",
       "      <th>200446</th>\n",
       "      <td>25999</td>\n",
       "      <td>2015</td>\n",
       "      <td>9140</td>\n",
       "      <td>0</td>\n",
       "      <td>0</td>\n",
       "      <td>0</td>\n",
       "      <td>0</td>\n",
       "      <td>0</td>\n",
       "      <td>0</td>\n",
       "      <td>0</td>\n",
       "      <td>...</td>\n",
       "      <td>0</td>\n",
       "      <td>0</td>\n",
       "      <td>0</td>\n",
       "      <td>0</td>\n",
       "      <td>0</td>\n",
       "      <td>0</td>\n",
       "      <td>0</td>\n",
       "      <td>0</td>\n",
       "      <td>0</td>\n",
       "      <td>0</td>\n",
       "    </tr>\n",
       "  </tbody>\n",
       "</table>\n",
       "<p>5 rows × 2555 columns</p>\n",
       "</div>"
      ],
      "text/plain": [
       "        Price  Year  Mileage  AUSTIN  AVON  Aberdeen  Abilene  Abington  \\\n",
       "36067   29345  2014    32318       0     0         0        0         0   \n",
       "282996  13000  2007    65127       0     0         0        0         0   \n",
       "248442  16800  2016    41898       0     0         0        0         0   \n",
       "631933  10969  2015    32596       0     0         0        0         0   \n",
       "200446  25999  2015     9140       0     0         0        0         0   \n",
       "\n",
       "        Acton  Acworth  ...  fortwopure  i3Hatchback  iAAutomatic  iQ3dr  \\\n",
       "36067       0        0  ...           0            0            0      0   \n",
       "282996      0        0  ...           0            0            0      0   \n",
       "248442      0        0  ...           0            0            0      0   \n",
       "631933      0        0  ...           0            0            0      0   \n",
       "200446      0        0  ...           0            0            0      0   \n",
       "\n",
       "        tC2dr  tC3dr  tCAutomatic  xB5dr  xBManual  xD5dr  \n",
       "36067       0      0            0      0         0      0  \n",
       "282996      0      0            0      0         0      0  \n",
       "248442      0      0            0      0         0      0  \n",
       "631933      0      0            0      0         0      0  \n",
       "200446      0      0            0      0         0      0  \n",
       "\n",
       "[5 rows x 2555 columns]"
      ]
     },
     "execution_count": 67,
     "metadata": {},
     "output_type": "execute_result"
    }
   ],
   "source": [
    "print(\"data shape = \", data.shape)\n",
    "data.head()"
   ]
  },
  {
   "cell_type": "markdown",
   "metadata": {},
   "source": [
    "We see that our data has expanded to look like it has 2,555 features! This is because there's probably many different cities, makes, and models in our data. With one-hot encoding, each unique value for a categorical variable becomes its own feature (column). That's why we see, for instance, \"Austin\" as a column where most of the values are going to be zero, but if a car was bought in Austin, then it will have a one in that column. Now that our categorical data has effectively been turned into numerical data, we can use it to train our models!"
   ]
  },
  {
   "cell_type": "markdown",
   "metadata": {},
   "source": [
    "To use our data for our models, we must manually split our data into the independent and dependent vaiables. We will call the independent variables (make, model, mileage, etc) X, and the dependent variable (price) y. Once we have X and y, we will split our data into testing and training data sets using the train_test_split function."
   ]
  },
  {
   "cell_type": "code",
   "execution_count": 69,
   "metadata": {},
   "outputs": [],
   "source": [
    "X = data.iloc[:, 1:]\n",
    "y = data.iloc[:, 0]\n",
    "\n",
    "X_train, X_test, y_train, y_test = skl.model_selection.train_test_split(X, y, test_size = 0.25, random_state = 5)"
   ]
  },
  {
   "cell_type": "markdown",
   "metadata": {},
   "source": [
    "We're now ready to train our models!"
   ]
  },
  {
   "cell_type": "markdown",
   "metadata": {},
   "source": [
    "### 3. Decision Tree Regression"
   ]
  },
  {
   "cell_type": "markdown",
   "metadata": {},
   "source": [
    "First we create and train our decision tree on our training data."
   ]
  },
  {
   "cell_type": "code",
   "execution_count": 87,
   "metadata": {},
   "outputs": [
    {
     "data": {
      "text/plain": [
       "DecisionTreeRegressor(min_samples_split=15)"
      ]
     },
     "execution_count": 87,
     "metadata": {},
     "output_type": "execute_result"
    }
   ],
   "source": [
    "tree = DecisionTreeRegressor(min_samples_split=15)\n",
    "tree.fit(X_train, y_train)"
   ]
  },
  {
   "cell_type": "markdown",
   "metadata": {},
   "source": [
    "Now that our model is trained, let's try to visualize the predictions it makes by graphing the predicted price by our model against the true price for our testing data set. We'll also graph a straight line on the graph corresponding to a \"perfect price prediction\"."
   ]
  },
  {
   "cell_type": "code",
   "execution_count": 88,
   "metadata": {},
   "outputs": [
    {
     "data": {
      "text/plain": [
       "<matplotlib.legend.Legend at 0x7fc49791f6d0>"
      ]
     },
     "execution_count": 88,
     "metadata": {},
     "output_type": "execute_result"
    },
    {
     "data": {
      "image/png": "[encoded data removed]",
      "text/plain": [
       "<Figure size 432x288 with 1 Axes>"
      ]
     },
     "metadata": {
      "needs_background": "light"
     },
     "output_type": "display_data"
    }
   ],
   "source": [
    "preds = tree.predict(X_test)\n",
    "\n",
    "plt.figure()\n",
    "plt.xlabel('Predicted price from algorithm ($)')\n",
    "plt.ylabel('True price ($)')\n",
    "plt.title('Prediction vs. actual price for test data')\n",
    "plt.plot(preds, y_test, '.')\n",
    "plt.plot(preds, preds, c='orange', alpha=0.5, label='true price = predicted price')\n",
    "plt.legend()"
   ]
  },
  {
   "cell_type": "markdown",
   "metadata": {},
   "source": [
    "Visually, except for a couple outliers, this looks pretty good! Naturally, the prices are clumped near the low end because there just aren't that many used cars for sale in the $80,000 range. To get a more quantitative view of the accuracy of our model, let's compute some accuracy metrics and organize them in a pandas dataframe."
   ]
  },
  {
   "cell_type": "code",
   "execution_count": 125,
   "metadata": {},
   "outputs": [],
   "source": [
    "Results = pd.DataFrame(columns=[\"Model\",\"Train R2\",\"Test R2\",\"Test RMSE\",\"Variance\",\"Test MAPE\"])\n",
    "\n",
    "\n",
    "r2_dt = skl.metrics.r2_score(y_test,preds)\n",
    "dt_train_pred = tree.predict(X_train)\n",
    "r2_train_dt = skl.metrics.r2_score(y_train, dt_train_pred)\n",
    "rmse_dt = np.sqrt(skl.metrics.mean_squared_error(y_test, preds))\n",
    "mape_dt = skl.metrics.mean_absolute_percentage_error(y_test, preds)\n",
    "variance_dt = r2_train_dt - r2_dt\n",
    "Results = Results.append({\"Model\":\"Decision Tree (Squared Error Criterion)\",\"Train R2\":r2_train_dt,\"Test R2\":r2_dt,\"Test RMSE\":rmse_dt,\"Variance\":variance_dt, \"Test MAPE\":mape_dt},ignore_index=True)"
   ]
  },
  {
   "cell_type": "code",
   "execution_count": 126,
   "metadata": {},
   "outputs": [
    {
     "data": {
      "text/html": [
       "<div>\n",
       "<style scoped>\n",
       "    .dataframe tbody tr th:only-of-type {\n",
       "        vertical-align: middle;\n",
       "    }\n",
       "\n",
       "    .dataframe tbody tr th {\n",
       "        vertical-align: top;\n",
       "    }\n",
       "\n",
       "    .dataframe thead th {\n",
       "        text-align: right;\n",
       "    }\n",
       "</style>\n",
       "<table border=\"1\" class=\"dataframe\">\n",
       "  <thead>\n",
       "    <tr style=\"text-align: right;\">\n",
       "      <th></th>\n",
       "      <th>Model</th>\n",
       "      <th>Train R2</th>\n",
       "      <th>Test R2</th>\n",
       "      <th>Test RMSE</th>\n",
       "      <th>Variance</th>\n",
       "      <th>Test MAPE</th>\n",
       "    </tr>\n",
       "  </thead>\n",
       "  <tbody>\n",
       "    <tr>\n",
       "      <th>0</th>\n",
       "      <td>Decision Tree (Squared Error Criterion)</td>\n",
       "      <td>0.945699</td>\n",
       "      <td>0.500591</td>\n",
       "      <td>9394.990453</td>\n",
       "      <td>0.445108</td>\n",
       "      <td>0.252675</td>\n",
       "    </tr>\n",
       "  </tbody>\n",
       "</table>\n",
       "</div>"
      ],
      "text/plain": [
       "                                     Model  Train R2   Test R2    Test RMSE  \\\n",
       "0  Decision Tree (Squared Error Criterion)  0.945699  0.500591  9394.990453   \n",
       "\n",
       "   Variance  Test MAPE  \n",
       "0  0.445108   0.252675  "
      ]
     },
     "execution_count": 126,
     "metadata": {},
     "output_type": "execute_result"
    }
   ],
   "source": [
    "Results"
   ]
  },
  {
   "cell_type": "markdown",
   "metadata": {},
   "source": [
    "Okay, so our average percentage error is a little worse than 25%. Let's see if we can improve the results by switching the criterion in our DecisionTreeRegressor object (the default is squared error). We'll try out all three other options. These are 'Friedman_mse', 'absolute_error' and 'poisson'. Let's create these different decision trees, train them on our data and then make the same plots and table as above."
   ]
  },
  {
   "cell_type": "code",
   "execution_count": 121,
   "metadata": {},
   "outputs": [],
   "source": [
    "%%capture\n",
    "\n",
    "tree_fmse = DecisionTreeRegressor(criterion='friedman_mse', min_samples_split=15)\n",
    "tree_fmse.fit(X_train, y_train)\n",
    "\n",
    "tree_ae = DecisionTreeRegressor(criterion='absolute_error', min_samples_split=15)\n",
    "tree_ae.fit(X_train, y_train)\n",
    "\n",
    "tree_p = DecisionTreeRegressor(criterion='poisson', min_samples_split=15)\n",
    "tree_p.fit(X_train, y_train)"
   ]
  },
  {
   "cell_type": "code",
   "execution_count": 122,
   "metadata": {},
   "outputs": [
    {
     "data": {
      "text/plain": [
       "<matplotlib.legend.Legend at 0x7fc497d13790>"
      ]
     },
     "execution_count": 122,
     "metadata": {},
     "output_type": "execute_result"
    },
    {
     "data": {
      "image/png": "[encoded data removed]",
      "text/plain": [
       "<Figure size 432x288 with 1 Axes>"
      ]
     },
     "metadata": {
      "needs_background": "light"
     },
     "output_type": "display_data"
    },
    {
     "data": {
      "image/png": "[encoded data removed]",
      "text/plain": [
       "<Figure size 432x288 with 1 Axes>"
      ]
     },
     "metadata": {
      "needs_background": "light"
     },
     "output_type": "display_data"
    },
    {
     "data": {
      "image/png": "[encoded data removed]",
      "text/plain": [
       "<Figure size 432x288 with 1 Axes>"
      ]
     },
     "metadata": {
      "needs_background": "light"
     },
     "output_type": "display_data"
    }
   ],
   "source": [
    "preds_fmse = tree_fmse.predict(X_test)\n",
    "\n",
    "plt.figure()\n",
    "plt.xlabel('Predicted price from algorithm ($)')\n",
    "plt.ylabel('True price ($)')\n",
    "plt.title('Friedman MSE Criterion')\n",
    "plt.plot(preds_fmse, y_test, '.')\n",
    "plt.plot(preds_fmse, preds_fmse, c='orange', alpha=0.5, label='true price = predicted price')\n",
    "plt.legend()\n",
    "\n",
    "\n",
    "\n",
    "preds_ae = tree_ae.predict(X_test)\n",
    "\n",
    "plt.figure()\n",
    "plt.xlabel('Predicted price from algorithm ($)')\n",
    "plt.ylabel('True price ($)')\n",
    "plt.title('Absolute Error Criterion')\n",
    "plt.plot(preds_ae, y_test, '.')\n",
    "plt.plot(preds_ae, preds_ae, c='orange', alpha=0.5, label='true price = predicted price')\n",
    "plt.legend()\n",
    "\n",
    "\n",
    "\n",
    "preds_p = tree_p.predict(X_test)\n",
    "\n",
    "plt.figure()\n",
    "plt.xlabel('Predicted price from algorithm ($)')\n",
    "plt.ylabel('True price ($)')\n",
    "plt.title('Poisson Criterion')\n",
    "plt.plot(preds_p, y_test, '.')\n",
    "plt.plot(preds_p, preds_p, c='orange', alpha=0.5, label='true price = predicted price')\n",
    "plt.legend()"
   ]
  },
  {
   "cell_type": "markdown",
   "metadata": {},
   "source": [
    "Visually, these all look pretty similar, but the poisson criterion seems to have done a bit worse. Let's confirm this by expanding our results table that we had above to include these different methods."
   ]
  },
  {
   "cell_type": "code",
   "execution_count": 127,
   "metadata": {},
   "outputs": [],
   "source": [
    "r2_dt_fmse = skl.metrics.r2_score(y_test,preds_fmse)\n",
    "dt_fmse_train_pred = tree_fmse.predict(X_train)\n",
    "r2_train_dt_fmse = skl.metrics.r2_score(y_train, dt_fmse_train_pred)\n",
    "rmse_dt_fmse = np.sqrt(skl.metrics.mean_squared_error(y_test, preds_fmse))\n",
    "mape_dt_fmse = skl.metrics.mean_absolute_percentage_error(y_test, preds_fmse)\n",
    "variance_dt_fmse = r2_train_dt_fmse - r2_dt_fmse\n",
    "Results = Results.append({\"Model\":\"Decision Tree (Friedman MSE Criterion)\",\"Train R2\":r2_train_dt_fmse,\"Test R2\":r2_dt_fmse,\"Test RMSE\":rmse_dt_fmse,\"Variance\":variance_dt_fmse, \"Test MAPE\":mape_dt_fmse},ignore_index=True)\n",
    "\n",
    "r2_dt_ae = skl.metrics.r2_score(y_test,preds_ae)\n",
    "dt_ae_train_pred = tree_ae.predict(X_train)\n",
    "r2_train_dt_ae = skl.metrics.r2_score(y_train, dt_ae_train_pred)\n",
    "rmse_dt_ae = np.sqrt(skl.metrics.mean_squared_error(y_test, preds_ae))\n",
    "mape_dt_ae = skl.metrics.mean_absolute_percentage_error(y_test, preds_ae)\n",
    "variance_dt_ae = r2_train_dt_ae - r2_dt_ae\n",
    "Results = Results.append({\"Model\":\"Decision Tree (Absolute Error Criterion)\",\"Train R2\":r2_train_dt_ae,\"Test R2\":r2_dt_ae,\"Test RMSE\":rmse_dt_ae,\"Variance\":variance_dt_ae, \"Test MAPE\":mape_dt_ae},ignore_index=True)\n",
    "\n",
    "r2_dt_p = skl.metrics.r2_score(y_test,preds_p)\n",
    "dt_p_train_pred = tree_p.predict(X_train)\n",
    "r2_train_dt_p = skl.metrics.r2_score(y_train, dt_p_train_pred)\n",
    "rmse_dt_p = np.sqrt(skl.metrics.mean_squared_error(y_test, preds_p))\n",
    "mape_dt_p = skl.metrics.mean_absolute_percentage_error(y_test, preds_p)\n",
    "variance_dt_p = r2_train_dt_p - r2_dt_p\n",
    "Results = Results.append({\"Model\":\"Decision Tree (Poisson Criterion)\",\"Train R2\":r2_train_dt_p,\"Test R2\":r2_dt_p,\"Test RMSE\":rmse_dt_p,\"Variance\":variance_dt_p, \"Test MAPE\":mape_dt_p},ignore_index=True)"
   ]
  },
  {
   "cell_type": "code",
   "execution_count": 128,
   "metadata": {},
   "outputs": [
    {
     "data": {
      "text/html": [
       "<div>\n",
       "<style scoped>\n",
       "    .dataframe tbody tr th:only-of-type {\n",
       "        vertical-align: middle;\n",
       "    }\n",
       "\n",
       "    .dataframe tbody tr th {\n",
       "        vertical-align: top;\n",
       "    }\n",
       "\n",
       "    .dataframe thead th {\n",
       "        text-align: right;\n",
       "    }\n",
       "</style>\n",
       "<table border=\"1\" class=\"dataframe\">\n",
       "  <thead>\n",
       "    <tr style=\"text-align: right;\">\n",
       "      <th></th>\n",
       "      <th>Model</th>\n",
       "      <th>Train R2</th>\n",
       "      <th>Test R2</th>\n",
       "      <th>Test RMSE</th>\n",
       "      <th>Variance</th>\n",
       "      <th>Test MAPE</th>\n",
       "    </tr>\n",
       "  </thead>\n",
       "  <tbody>\n",
       "    <tr>\n",
       "      <th>0</th>\n",
       "      <td>Decision Tree (Squared Error Criterion)</td>\n",
       "      <td>0.945699</td>\n",
       "      <td>0.500591</td>\n",
       "      <td>9394.990453</td>\n",
       "      <td>0.445108</td>\n",
       "      <td>0.252675</td>\n",
       "    </tr>\n",
       "    <tr>\n",
       "      <th>1</th>\n",
       "      <td>Decision Tree (Friedman MSE Criterion)</td>\n",
       "      <td>0.945699</td>\n",
       "      <td>0.443710</td>\n",
       "      <td>9915.589121</td>\n",
       "      <td>0.501989</td>\n",
       "      <td>0.254839</td>\n",
       "    </tr>\n",
       "    <tr>\n",
       "      <th>2</th>\n",
       "      <td>Decision Tree (Absolute Error Criterion)</td>\n",
       "      <td>0.929971</td>\n",
       "      <td>0.435632</td>\n",
       "      <td>9987.321617</td>\n",
       "      <td>0.494339</td>\n",
       "      <td>0.239625</td>\n",
       "    </tr>\n",
       "    <tr>\n",
       "      <th>3</th>\n",
       "      <td>Decision Tree (Poisson Criterion)</td>\n",
       "      <td>0.868214</td>\n",
       "      <td>0.227740</td>\n",
       "      <td>11682.877047</td>\n",
       "      <td>0.640474</td>\n",
       "      <td>0.389350</td>\n",
       "    </tr>\n",
       "  </tbody>\n",
       "</table>\n",
       "</div>"
      ],
      "text/plain": [
       "                                      Model  Train R2   Test R2     Test RMSE  \\\n",
       "0   Decision Tree (Squared Error Criterion)  0.945699  0.500591   9394.990453   \n",
       "1    Decision Tree (Friedman MSE Criterion)  0.945699  0.443710   9915.589121   \n",
       "2  Decision Tree (Absolute Error Criterion)  0.929971  0.435632   9987.321617   \n",
       "3         Decision Tree (Poisson Criterion)  0.868214  0.227740  11682.877047   \n",
       "\n",
       "   Variance  Test MAPE  \n",
       "0  0.445108   0.252675  \n",
       "1  0.501989   0.254839  \n",
       "2  0.494339   0.239625  \n",
       "3  0.640474   0.389350  "
      ]
     },
     "execution_count": 128,
     "metadata": {},
     "output_type": "execute_result"
    }
   ],
   "source": [
    "Results"
   ]
  },
  {
   "cell_type": "markdown",
   "metadata": {},
   "source": [
    "We see that the absolute error option for the criterion is the best. The Poisson criterion also does considerably worse than all the rest of the criterion which is interesting to note."
   ]
  },
  {
   "cell_type": "markdown",
   "metadata": {},
   "source": [
    "### 4. Random Forest Regression"
   ]
  },
  {
   "cell_type": "markdown",
   "metadata": {},
   "source": [
    "Now let's try the same analysis, but with a random forest regressor. This method uses many randomized decision trees to lower the variance of the output. Thus, we should find that the random forest regresor gives a lower mean absolute percentage error than even our best decision tree model. Let's see this in action. We set everything up just the same as before. We will use max_features as the square root of our total number of features."
   ]
  },
  {
   "cell_type": "code",
   "execution_count": 129,
   "metadata": {},
   "outputs": [
    {
     "data": {
      "text/plain": [
       "RandomForestRegressor(max_features=51)"
      ]
     },
     "execution_count": 129,
     "metadata": {},
     "output_type": "execute_result"
    }
   ],
   "source": [
    "num_features = X_train.shape[1]\n",
    "forest = RandomForestRegressor(max_features = int(round(np.sqrt(num_features))))\n",
    "forest.fit(X_train, y_train)"
   ]
  },
  {
   "cell_type": "code",
   "execution_count": 130,
   "metadata": {},
   "outputs": [
    {
     "data": {
      "text/plain": [
       "<matplotlib.legend.Legend at 0x7fc4983b2550>"
      ]
     },
     "execution_count": 130,
     "metadata": {},
     "output_type": "execute_result"
    },
    {
     "data": {
      "image/png": "[encoded data removed]",
      "text/plain": [
       "<Figure size 432x288 with 1 Axes>"
      ]
     },
     "metadata": {
      "needs_background": "light"
     },
     "output_type": "display_data"
    }
   ],
   "source": [
    "preds_forest = forest.predict(X_test)\n",
    "\n",
    "plt.figure()\n",
    "plt.xlabel('Predicted price from algorithm ($)')\n",
    "plt.ylabel('True price ($)')\n",
    "plt.title('Prediction vs. actual price for test data')\n",
    "plt.plot(preds_forest, y_test, '.')\n",
    "plt.plot(preds_forest, preds_forest, c='orange', alpha=0.5, label='true price = predicted price')\n",
    "plt.legend()"
   ]
  },
  {
   "cell_type": "markdown",
   "metadata": {},
   "source": [
    "I'd say that this visually looks like it is better than our decision tree model from above. Let's calculate all of our metrics and add the results to our table."
   ]
  },
  {
   "cell_type": "code",
   "execution_count": 131,
   "metadata": {},
   "outputs": [],
   "source": [
    "r2_forest = skl.metrics.r2_score(y_test,preds_forest)\n",
    "forest_train_pred = forest.predict(X_train)\n",
    "r2_train_forest = skl.metrics.r2_score(y_train, forest_train_pred)\n",
    "rmse_forest = np.sqrt(skl.metrics.mean_squared_error(y_test, preds_forest))\n",
    "mape_forest = skl.metrics.mean_absolute_percentage_error(y_test, preds_forest)\n",
    "variance_forest = r2_train_forest - r2_forest\n",
    "Results = Results.append({\"Model\":\"Random Forest\",\"Train R2\":r2_train_forest,\"Test R2\":r2_forest,\"Test RMSE\":rmse_forest,\"Variance\":variance_forest, \"Test MAPE\":mape_forest},ignore_index=True)"
   ]
  },
  {
   "cell_type": "code",
   "execution_count": 132,
   "metadata": {},
   "outputs": [
    {
     "data": {
      "text/html": [
       "<div>\n",
       "<style scoped>\n",
       "    .dataframe tbody tr th:only-of-type {\n",
       "        vertical-align: middle;\n",
       "    }\n",
       "\n",
       "    .dataframe tbody tr th {\n",
       "        vertical-align: top;\n",
       "    }\n",
       "\n",
       "    .dataframe thead th {\n",
       "        text-align: right;\n",
       "    }\n",
       "</style>\n",
       "<table border=\"1\" class=\"dataframe\">\n",
       "  <thead>\n",
       "    <tr style=\"text-align: right;\">\n",
       "      <th></th>\n",
       "      <th>Model</th>\n",
       "      <th>Train R2</th>\n",
       "      <th>Test R2</th>\n",
       "      <th>Test RMSE</th>\n",
       "      <th>Variance</th>\n",
       "      <th>Test MAPE</th>\n",
       "    </tr>\n",
       "  </thead>\n",
       "  <tbody>\n",
       "    <tr>\n",
       "      <th>0</th>\n",
       "      <td>Decision Tree (Squared Error Criterion)</td>\n",
       "      <td>0.945699</td>\n",
       "      <td>0.500591</td>\n",
       "      <td>9394.990453</td>\n",
       "      <td>0.445108</td>\n",
       "      <td>0.252675</td>\n",
       "    </tr>\n",
       "    <tr>\n",
       "      <th>1</th>\n",
       "      <td>Decision Tree (Friedman MSE Criterion)</td>\n",
       "      <td>0.945699</td>\n",
       "      <td>0.443710</td>\n",
       "      <td>9915.589121</td>\n",
       "      <td>0.501989</td>\n",
       "      <td>0.254839</td>\n",
       "    </tr>\n",
       "    <tr>\n",
       "      <th>2</th>\n",
       "      <td>Decision Tree (Absolute Error Criterion)</td>\n",
       "      <td>0.929971</td>\n",
       "      <td>0.435632</td>\n",
       "      <td>9987.321617</td>\n",
       "      <td>0.494339</td>\n",
       "      <td>0.239625</td>\n",
       "    </tr>\n",
       "    <tr>\n",
       "      <th>3</th>\n",
       "      <td>Decision Tree (Poisson Criterion)</td>\n",
       "      <td>0.868214</td>\n",
       "      <td>0.227740</td>\n",
       "      <td>11682.877047</td>\n",
       "      <td>0.640474</td>\n",
       "      <td>0.389350</td>\n",
       "    </tr>\n",
       "    <tr>\n",
       "      <th>4</th>\n",
       "      <td>Random Forest</td>\n",
       "      <td>0.946835</td>\n",
       "      <td>0.551743</td>\n",
       "      <td>8900.850818</td>\n",
       "      <td>0.395092</td>\n",
       "      <td>0.251918</td>\n",
       "    </tr>\n",
       "  </tbody>\n",
       "</table>\n",
       "</div>"
      ],
      "text/plain": [
       "                                      Model  Train R2   Test R2     Test RMSE  \\\n",
       "0   Decision Tree (Squared Error Criterion)  0.945699  0.500591   9394.990453   \n",
       "1    Decision Tree (Friedman MSE Criterion)  0.945699  0.443710   9915.589121   \n",
       "2  Decision Tree (Absolute Error Criterion)  0.929971  0.435632   9987.321617   \n",
       "3         Decision Tree (Poisson Criterion)  0.868214  0.227740  11682.877047   \n",
       "4                             Random Forest  0.946835  0.551743   8900.850818   \n",
       "\n",
       "   Variance  Test MAPE  \n",
       "0  0.445108   0.252675  \n",
       "1  0.501989   0.254839  \n",
       "2  0.494339   0.239625  \n",
       "3  0.640474   0.389350  \n",
       "4  0.395092   0.251918  "
      ]
     },
     "execution_count": 132,
     "metadata": {},
     "output_type": "execute_result"
    }
   ],
   "source": [
    "Results"
   ]
  },
  {
   "cell_type": "markdown",
   "metadata": {},
   "source": [
    "Indeed, our random forest does better than the decision tree, although not by much. We still have around a 25% mean absolute percentage error."
   ]
  },
  {
   "cell_type": "markdown",
   "metadata": {},
   "source": [
    "### 5. K-Nearest Neighbors Regression"
   ]
  },
  {
   "cell_type": "markdown",
   "metadata": {},
   "source": [
    "The final regression method I will try out is k-nearest neighbors. This method should do well, but one could worry about the one-hot encoding that we did messing this up. By this, I mean that it is possible that k-nearest neighbors could \"overweight\" or \"underweight\" the features which were one-hot encoded. This is because the one-hot encoded features are not actually numerical, they are categorical. K-nearest neighbors relies on numerical data to calculate distances between our cars in the parameter space. Thus the different normalizations of each of our parameters could be a concern. Let's try it out and see how we do.\n",
    "\n",
    "First, let's figure out what we want to use as the k_neighbors argument. The algorithm will by default take the average of the 5 nearest neighbors to guess a price for each car. Our data set has a total of 5,000 cars, so the default of 5 is probably too small. Let's do a short analysis to find the optimal value for n_neighbors."
   ]
  },
  {
   "cell_type": "code",
   "execution_count": 133,
   "metadata": {},
   "outputs": [],
   "source": [
    "num_k = 100\n",
    "k_arr = np.zeros([num_k, 2])\n",
    "\n",
    "for index in np.arange(num_k-1)+1:\n",
    "    knn = KNeighborsRegressor(n_neighbors=index*(int(X_train.shape[0]/num_k)))\n",
    "    knn.fit(X_train, y_train)\n",
    "    iter_preds = knn.predict(X_test)\n",
    "    ape = skl.metrics.mean_absolute_percentage_error(y_test, iter_preds)\n",
    "    k_arr[index, :] = [index*(int(data.shape[0]/num_k)), ape]\n",
    "    \n",
    "#Get rid of first column, which never got updated\n",
    "k_arr = np.delete(k_arr, 0, 0)"
   ]
  },
  {
   "cell_type": "code",
   "execution_count": 134,
   "metadata": {},
   "outputs": [
    {
     "data": {
      "text/plain": [
       "[<matplotlib.lines.Line2D at 0x7fc46d4293d0>]"
      ]
     },
     "execution_count": 134,
     "metadata": {},
     "output_type": "execute_result"
    },
    {
     "data": {
      "image/png": "[encoded data removed]",
      "text/plain": [
       "<Figure size 432x288 with 1 Axes>"
      ]
     },
     "metadata": {
      "needs_background": "light"
     },
     "output_type": "display_data"
    }
   ],
   "source": [
    "plt.figure()\n",
    "plt.xlabel('k')\n",
    "plt.ylabel('Mean percent error')\n",
    "plt.title('Optimizing k to minimize mean percent error')\n",
    "plt.plot(k_arr[:,0], k_arr[:,1])"
   ]
  },
  {
   "cell_type": "markdown",
   "metadata": {},
   "source": [
    "This plot appears to have a minimum at the lowest possible k, but let's zoom in on the low-k region of the graph to make sure."
   ]
  },
  {
   "cell_type": "code",
   "execution_count": 136,
   "metadata": {},
   "outputs": [
    {
     "data": {
      "text/plain": [
       "[<matplotlib.lines.Line2D at 0x7fc46da44b10>]"
      ]
     },
     "execution_count": 136,
     "metadata": {},
     "output_type": "execute_result"
    },
    {
     "data": {
      "image/png": "[encoded data removed]",
      "text/plain": [
       "<Figure size 432x288 with 1 Axes>"
      ]
     },
     "metadata": {
      "needs_background": "light"
     },
     "output_type": "display_data"
    }
   ],
   "source": [
    "num_k = 50\n",
    "k_arr = np.zeros([num_k, 2])\n",
    "\n",
    "for index in np.arange(num_k-1)+1:\n",
    "    knn = KNeighborsRegressor(n_neighbors=index*3)\n",
    "    knn.fit(X_train, y_train)\n",
    "    iter_preds = knn.predict(X_test)\n",
    "    ape = skl.metrics.mean_absolute_percentage_error(y_test, iter_preds)\n",
    "    k_arr[index, :] = [index*3, ape]\n",
    "    \n",
    "#Get rid of first column, which never got updated\n",
    "k_arr = np.delete(k_arr, 0, 0)\n",
    "\n",
    "\n",
    "plt.figure()\n",
    "plt.xlabel('k')\n",
    "plt.ylabel('Mean percent error')\n",
    "plt.title('Optimizing k to minimize mean percent error')\n",
    "plt.plot(k_arr[:,0], k_arr[:,1])"
   ]
  },
  {
   "cell_type": "markdown",
   "metadata": {},
   "source": [
    "This graph appears to have a minimum near k = 30, so let's use that as our num_neighbors argument."
   ]
  },
  {
   "cell_type": "code",
   "execution_count": 137,
   "metadata": {},
   "outputs": [
    {
     "data": {
      "text/plain": [
       "KNeighborsRegressor(n_neighbors=30)"
      ]
     },
     "execution_count": 137,
     "metadata": {},
     "output_type": "execute_result"
    }
   ],
   "source": [
    "knn = KNeighborsRegressor(n_neighbors=30)\n",
    "knn.fit(X_train, y_train)"
   ]
  },
  {
   "cell_type": "code",
   "execution_count": 138,
   "metadata": {},
   "outputs": [
    {
     "data": {
      "text/plain": [
       "<matplotlib.legend.Legend at 0x7fc46d654a10>"
      ]
     },
     "execution_count": 138,
     "metadata": {},
     "output_type": "execute_result"
    },
    {
     "data": {
      "image/png": "[encoded data removed]",
      "text/plain": [
       "<Figure size 432x288 with 1 Axes>"
      ]
     },
     "metadata": {
      "needs_background": "light"
     },
     "output_type": "display_data"
    }
   ],
   "source": [
    "preds_knn = knn.predict(X_test)\n",
    "\n",
    "plt.figure()\n",
    "plt.xlabel('Predicted price from algorithm ($)')\n",
    "plt.ylabel('True price ($)')\n",
    "plt.title('Prediction vs. actual price for test data using KNN')\n",
    "plt.plot(preds_knn, y_test, '.')\n",
    "plt.plot(preds_knn, preds_knn, c='orange', alpha=0.5, label='true price = predicted price')\n",
    "plt.legend()"
   ]
  },
  {
   "cell_type": "markdown",
   "metadata": {},
   "source": [
    "This looks pretty good, but let's see how it compares to our other models."
   ]
  },
  {
   "cell_type": "code",
   "execution_count": 139,
   "metadata": {},
   "outputs": [],
   "source": [
    "r2_knn = skl.metrics.r2_score(y_test,preds_knn)\n",
    "knn_train_pred = knn.predict(X_train)\n",
    "r2_train_knn = skl.metrics.r2_score(y_train, knn_train_pred)\n",
    "rmse_knn = np.sqrt(skl.metrics.mean_squared_error(y_test, preds_knn))\n",
    "mape_knn = skl.metrics.mean_absolute_percentage_error(y_test, preds_knn)\n",
    "variance_knn = r2_train_knn - r2_knn\n",
    "Results = Results.append({\"Model\":\"K-Nearest Neighbors\",\"Train R2\":r2_train_knn,\"Test R2\":r2_knn,\"Test RMSE\":rmse_knn,\"Variance\":variance_knn, \"Test MAPE\":mape_knn},ignore_index=True)"
   ]
  },
  {
   "cell_type": "code",
   "execution_count": 140,
   "metadata": {},
   "outputs": [
    {
     "data": {
      "text/html": [
       "<div>\n",
       "<style scoped>\n",
       "    .dataframe tbody tr th:only-of-type {\n",
       "        vertical-align: middle;\n",
       "    }\n",
       "\n",
       "    .dataframe tbody tr th {\n",
       "        vertical-align: top;\n",
       "    }\n",
       "\n",
       "    .dataframe thead th {\n",
       "        text-align: right;\n",
       "    }\n",
       "</style>\n",
       "<table border=\"1\" class=\"dataframe\">\n",
       "  <thead>\n",
       "    <tr style=\"text-align: right;\">\n",
       "      <th></th>\n",
       "      <th>Model</th>\n",
       "      <th>Train R2</th>\n",
       "      <th>Test R2</th>\n",
       "      <th>Test RMSE</th>\n",
       "      <th>Variance</th>\n",
       "      <th>Test MAPE</th>\n",
       "    </tr>\n",
       "  </thead>\n",
       "  <tbody>\n",
       "    <tr>\n",
       "      <th>0</th>\n",
       "      <td>Decision Tree (Squared Error Criterion)</td>\n",
       "      <td>0.945699</td>\n",
       "      <td>0.500591</td>\n",
       "      <td>9394.990453</td>\n",
       "      <td>0.445108</td>\n",
       "      <td>0.252675</td>\n",
       "    </tr>\n",
       "    <tr>\n",
       "      <th>1</th>\n",
       "      <td>Decision Tree (Friedman MSE Criterion)</td>\n",
       "      <td>0.945699</td>\n",
       "      <td>0.443710</td>\n",
       "      <td>9915.589121</td>\n",
       "      <td>0.501989</td>\n",
       "      <td>0.254839</td>\n",
       "    </tr>\n",
       "    <tr>\n",
       "      <th>2</th>\n",
       "      <td>Decision Tree (Absolute Error Criterion)</td>\n",
       "      <td>0.929971</td>\n",
       "      <td>0.435632</td>\n",
       "      <td>9987.321617</td>\n",
       "      <td>0.494339</td>\n",
       "      <td>0.239625</td>\n",
       "    </tr>\n",
       "    <tr>\n",
       "      <th>3</th>\n",
       "      <td>Decision Tree (Poisson Criterion)</td>\n",
       "      <td>0.868214</td>\n",
       "      <td>0.227740</td>\n",
       "      <td>11682.877047</td>\n",
       "      <td>0.640474</td>\n",
       "      <td>0.389350</td>\n",
       "    </tr>\n",
       "    <tr>\n",
       "      <th>4</th>\n",
       "      <td>Random Forest</td>\n",
       "      <td>0.946835</td>\n",
       "      <td>0.551743</td>\n",
       "      <td>8900.850818</td>\n",
       "      <td>0.395092</td>\n",
       "      <td>0.251918</td>\n",
       "    </tr>\n",
       "    <tr>\n",
       "      <th>5</th>\n",
       "      <td>K-Nearest Neighbors</td>\n",
       "      <td>0.251188</td>\n",
       "      <td>0.205761</td>\n",
       "      <td>11847.958463</td>\n",
       "      <td>0.045427</td>\n",
       "      <td>0.445985</td>\n",
       "    </tr>\n",
       "  </tbody>\n",
       "</table>\n",
       "</div>"
      ],
      "text/plain": [
       "                                      Model  Train R2   Test R2     Test RMSE  \\\n",
       "0   Decision Tree (Squared Error Criterion)  0.945699  0.500591   9394.990453   \n",
       "1    Decision Tree (Friedman MSE Criterion)  0.945699  0.443710   9915.589121   \n",
       "2  Decision Tree (Absolute Error Criterion)  0.929971  0.435632   9987.321617   \n",
       "3         Decision Tree (Poisson Criterion)  0.868214  0.227740  11682.877047   \n",
       "4                             Random Forest  0.946835  0.551743   8900.850818   \n",
       "5                       K-Nearest Neighbors  0.251188  0.205761  11847.958463   \n",
       "\n",
       "   Variance  Test MAPE  \n",
       "0  0.445108   0.252675  \n",
       "1  0.501989   0.254839  \n",
       "2  0.494339   0.239625  \n",
       "3  0.640474   0.389350  \n",
       "4  0.395092   0.251918  \n",
       "5  0.045427   0.445985  "
      ]
     },
     "execution_count": 140,
     "metadata": {},
     "output_type": "execute_result"
    }
   ],
   "source": [
    "Results"
   ]
  },
  {
   "cell_type": "markdown",
   "metadata": {},
   "source": [
    "While the K-nearest neighbors looked pretty good visually, we see that it is actually our worst model yet! I explain in more detail why I think this is in the conclusions/comparison section. For now, let's move on to our final model, the neural network."
   ]
  },
  {
   "cell_type": "markdown",
   "metadata": {},
   "source": [
    "### 6. Neural Network"
   ]
  },
  {
   "cell_type": "markdown",
   "metadata": {},
   "source": [
    "Let's create a neural network with 7 total layers, one being and input and one being an output layer. All of the hidden layers will start large and gradually decrease in size."
   ]
  },
  {
   "cell_type": "code",
   "execution_count": 144,
   "metadata": {},
   "outputs": [
    {
     "data": {
      "text/plain": [
       "(3750, 2554)"
      ]
     },
     "execution_count": 144,
     "metadata": {},
     "output_type": "execute_result"
    }
   ],
   "source": [
    "X_train.shape"
   ]
  },
  {
   "cell_type": "code",
   "execution_count": 145,
   "metadata": {},
   "outputs": [],
   "source": [
    "input_shape = X_train.shape[1]\n",
    "\n",
    "nn = keras.Sequential(\n",
    "    [\n",
    "        layers.Dense(units=64, activation=\"relu\", input_shape=(input_shape,)),\n",
    "        layers.Dense(units=32, activation=\"relu\", input_shape=(int(input_shape/10),)),\n",
    "        layers.Dense(units=16, activation=\"relu\", input_shape=(int(input_shape/10),)),\n",
    "        layers.Dense(units=8, activation=\"relu\", input_shape=(int(input_shape/10),)),\n",
    "        layers.Dense(units=4, activation=\"relu\", input_shape=(int(input_shape/10),)),\n",
    "        layers.Dense(units=2, activation=\"relu\", input_shape=(int(input_shape/10),)),\n",
    "        layers.Dense(units=1),\n",
    "    ]\n",
    ")"
   ]
  },
  {
   "cell_type": "markdown",
   "metadata": {},
   "source": [
    "We can see a summary of our neural network architecture below."
   ]
  },
  {
   "cell_type": "code",
   "execution_count": 147,
   "metadata": {},
   "outputs": [
    {
     "name": "stdout",
     "output_type": "stream",
     "text": [
      "Model: \"sequential_2\"\n",
      "_________________________________________________________________\n",
      "Layer (type)                 Output Shape              Param #   \n",
      "=================================================================\n",
      "dense_14 (Dense)             (None, 64)                163520    \n",
      "_________________________________________________________________\n",
      "dense_15 (Dense)             (None, 32)                2080      \n",
      "_________________________________________________________________\n",
      "dense_16 (Dense)             (None, 16)                528       \n",
      "_________________________________________________________________\n",
      "dense_17 (Dense)             (None, 8)                 136       \n",
      "_________________________________________________________________\n",
      "dense_18 (Dense)             (None, 4)                 36        \n",
      "_________________________________________________________________\n",
      "dense_19 (Dense)             (None, 2)                 10        \n",
      "_________________________________________________________________\n",
      "dense_20 (Dense)             (None, 1)                 3         \n",
      "=================================================================\n",
      "Total params: 166,313\n",
      "Trainable params: 166,313\n",
      "Non-trainable params: 0\n",
      "_________________________________________________________________\n"
     ]
    }
   ],
   "source": [
    "nn.summary()"
   ]
  },
  {
   "cell_type": "markdown",
   "metadata": {},
   "source": [
    "Now we need to compile our model. We'll use the \"Adam\" optimizer and mean absolute error as our loss function that the network will minimize as it is training. After compilation, we train our model with the data."
   ]
  },
  {
   "cell_type": "code",
   "execution_count": 148,
   "metadata": {},
   "outputs": [],
   "source": [
    "%%capture\n",
    "\n",
    "nn.compile(optimizer='adam', loss='mae')\n",
    "nn.fit(x=np.array(X_train, dtype='float'), y=np.array(y_train, dtype='float'), batch_size=int(X_train.shape[0]/10), epochs=500)"
   ]
  },
  {
   "cell_type": "code",
   "execution_count": 149,
   "metadata": {},
   "outputs": [
    {
     "data": {
      "text/plain": [
       "<matplotlib.legend.Legend at 0x7fc4afdf9610>"
      ]
     },
     "execution_count": 149,
     "metadata": {},
     "output_type": "execute_result"
    },
    {
     "data": {
      "image/png": "[encoded data removed]",
      "text/plain": [
       "<Figure size 432x288 with 1 Axes>"
      ]
     },
     "metadata": {
      "needs_background": "light"
     },
     "output_type": "display_data"
    }
   ],
   "source": [
    "preds_nn = nn.predict(X_test)\n",
    "\n",
    "plt.figure()\n",
    "plt.xlabel('Predicted price from neural network ($)')\n",
    "plt.ylabel('True price ($)')\n",
    "plt.title('Prediction vs. actual price for test data using neural network')\n",
    "plt.plot(preds_nn, y_test, '.')\n",
    "plt.plot(preds_nn, preds_nn, c='orange', alpha=0.5, label='true price = predicted price')\n",
    "plt.legend()"
   ]
  },
  {
   "cell_type": "markdown",
   "metadata": {},
   "source": [
    "Finally, let's add the neural network to our table and see how it compares."
   ]
  },
  {
   "cell_type": "code",
   "execution_count": 150,
   "metadata": {},
   "outputs": [],
   "source": [
    "r2_nn = skl.metrics.r2_score(y_test,preds_nn)\n",
    "nn_train_pred = nn.predict(X_train)\n",
    "r2_train_nn = skl.metrics.r2_score(y_train, nn_train_pred)\n",
    "rmse_nn = np.sqrt(skl.metrics.mean_squared_error(y_test, preds_nn))\n",
    "mape_nn = skl.metrics.mean_absolute_percentage_error(y_test, preds_nn)\n",
    "variance_nn = r2_train_nn - r2_nn\n",
    "Results = Results.append({\"Model\":\"Neural Network\",\"Train R2\":r2_train_nn,\"Test R2\":r2_nn,\"Test RMSE\":rmse_nn,\"Variance\":variance_nn, \"Test MAPE\":mape_nn},ignore_index=True)"
   ]
  },
  {
   "cell_type": "code",
   "execution_count": 151,
   "metadata": {},
   "outputs": [
    {
     "data": {
      "text/html": [
       "<div>\n",
       "<style scoped>\n",
       "    .dataframe tbody tr th:only-of-type {\n",
       "        vertical-align: middle;\n",
       "    }\n",
       "\n",
       "    .dataframe tbody tr th {\n",
       "        vertical-align: top;\n",
       "    }\n",
       "\n",
       "    .dataframe thead th {\n",
       "        text-align: right;\n",
       "    }\n",
       "</style>\n",
       "<table border=\"1\" class=\"dataframe\">\n",
       "  <thead>\n",
       "    <tr style=\"text-align: right;\">\n",
       "      <th></th>\n",
       "      <th>Model</th>\n",
       "      <th>Train R2</th>\n",
       "      <th>Test R2</th>\n",
       "      <th>Test RMSE</th>\n",
       "      <th>Variance</th>\n",
       "      <th>Test MAPE</th>\n",
       "    </tr>\n",
       "  </thead>\n",
       "  <tbody>\n",
       "    <tr>\n",
       "      <th>0</th>\n",
       "      <td>Decision Tree (Squared Error Criterion)</td>\n",
       "      <td>0.945699</td>\n",
       "      <td>0.500591</td>\n",
       "      <td>9394.990453</td>\n",
       "      <td>0.445108</td>\n",
       "      <td>0.252675</td>\n",
       "    </tr>\n",
       "    <tr>\n",
       "      <th>1</th>\n",
       "      <td>Decision Tree (Friedman MSE Criterion)</td>\n",
       "      <td>0.945699</td>\n",
       "      <td>0.443710</td>\n",
       "      <td>9915.589121</td>\n",
       "      <td>0.501989</td>\n",
       "      <td>0.254839</td>\n",
       "    </tr>\n",
       "    <tr>\n",
       "      <th>2</th>\n",
       "      <td>Decision Tree (Absolute Error Criterion)</td>\n",
       "      <td>0.929971</td>\n",
       "      <td>0.435632</td>\n",
       "      <td>9987.321617</td>\n",
       "      <td>0.494339</td>\n",
       "      <td>0.239625</td>\n",
       "    </tr>\n",
       "    <tr>\n",
       "      <th>3</th>\n",
       "      <td>Decision Tree (Poisson Criterion)</td>\n",
       "      <td>0.868214</td>\n",
       "      <td>0.227740</td>\n",
       "      <td>11682.877047</td>\n",
       "      <td>0.640474</td>\n",
       "      <td>0.389350</td>\n",
       "    </tr>\n",
       "    <tr>\n",
       "      <th>4</th>\n",
       "      <td>Random Forest</td>\n",
       "      <td>0.946835</td>\n",
       "      <td>0.551743</td>\n",
       "      <td>8900.850818</td>\n",
       "      <td>0.395092</td>\n",
       "      <td>0.251918</td>\n",
       "    </tr>\n",
       "    <tr>\n",
       "      <th>5</th>\n",
       "      <td>K-Nearest Neighbors</td>\n",
       "      <td>0.251188</td>\n",
       "      <td>0.205761</td>\n",
       "      <td>11847.958463</td>\n",
       "      <td>0.045427</td>\n",
       "      <td>0.445985</td>\n",
       "    </tr>\n",
       "    <tr>\n",
       "      <th>6</th>\n",
       "      <td>Neural Network</td>\n",
       "      <td>0.258943</td>\n",
       "      <td>0.223248</td>\n",
       "      <td>11716.802223</td>\n",
       "      <td>0.035695</td>\n",
       "      <td>0.366065</td>\n",
       "    </tr>\n",
       "  </tbody>\n",
       "</table>\n",
       "</div>"
      ],
      "text/plain": [
       "                                      Model  Train R2   Test R2     Test RMSE  \\\n",
       "0   Decision Tree (Squared Error Criterion)  0.945699  0.500591   9394.990453   \n",
       "1    Decision Tree (Friedman MSE Criterion)  0.945699  0.443710   9915.589121   \n",
       "2  Decision Tree (Absolute Error Criterion)  0.929971  0.435632   9987.321617   \n",
       "3         Decision Tree (Poisson Criterion)  0.868214  0.227740  11682.877047   \n",
       "4                             Random Forest  0.946835  0.551743   8900.850818   \n",
       "5                       K-Nearest Neighbors  0.251188  0.205761  11847.958463   \n",
       "6                            Neural Network  0.258943  0.223248  11716.802223   \n",
       "\n",
       "   Variance  Test MAPE  \n",
       "0  0.445108   0.252675  \n",
       "1  0.501989   0.254839  \n",
       "2  0.494339   0.239625  \n",
       "3  0.640474   0.389350  \n",
       "4  0.395092   0.251918  \n",
       "5  0.045427   0.445985  \n",
       "6  0.035695   0.366065  "
      ]
     },
     "execution_count": 151,
     "metadata": {},
     "output_type": "execute_result"
    }
   ],
   "source": [
    "Results"
   ]
  },
  {
   "cell_type": "markdown",
   "metadata": {},
   "source": [
    "We see that our neural network is better than K-Nearest Neighbors and the decision tree with Poisson criterion, but worse than the other decision trees as well as the random forest."
   ]
  },
  {
   "cell_type": "markdown",
   "metadata": {},
   "source": [
    "### 7. Comparison/Conclusions"
   ]
  },
  {
   "cell_type": "markdown",
   "metadata": {},
   "source": [
    "In this notebook, we ran algorithms using sklearn to try to predict used car prices. We used decision trees with various criteria, a random forest, a k-nearest neighbors algorithm, and a neural network. The results are summarized in the table below."
   ]
  },
  {
   "cell_type": "code",
   "execution_count": 152,
   "metadata": {},
   "outputs": [
    {
     "data": {
      "text/html": [
       "<div>\n",
       "<style scoped>\n",
       "    .dataframe tbody tr th:only-of-type {\n",
       "        vertical-align: middle;\n",
       "    }\n",
       "\n",
       "    .dataframe tbody tr th {\n",
       "        vertical-align: top;\n",
       "    }\n",
       "\n",
       "    .dataframe thead th {\n",
       "        text-align: right;\n",
       "    }\n",
       "</style>\n",
       "<table border=\"1\" class=\"dataframe\">\n",
       "  <thead>\n",
       "    <tr style=\"text-align: right;\">\n",
       "      <th></th>\n",
       "      <th>Model</th>\n",
       "      <th>Train R2</th>\n",
       "      <th>Test R2</th>\n",
       "      <th>Test RMSE</th>\n",
       "      <th>Variance</th>\n",
       "      <th>Test MAPE</th>\n",
       "    </tr>\n",
       "  </thead>\n",
       "  <tbody>\n",
       "    <tr>\n",
       "      <th>0</th>\n",
       "      <td>Decision Tree (Squared Error Criterion)</td>\n",
       "      <td>0.945699</td>\n",
       "      <td>0.500591</td>\n",
       "      <td>9394.990453</td>\n",
       "      <td>0.445108</td>\n",
       "      <td>0.252675</td>\n",
       "    </tr>\n",
       "    <tr>\n",
       "      <th>1</th>\n",
       "      <td>Decision Tree (Friedman MSE Criterion)</td>\n",
       "      <td>0.945699</td>\n",
       "      <td>0.443710</td>\n",
       "      <td>9915.589121</td>\n",
       "      <td>0.501989</td>\n",
       "      <td>0.254839</td>\n",
       "    </tr>\n",
       "    <tr>\n",
       "      <th>2</th>\n",
       "      <td>Decision Tree (Absolute Error Criterion)</td>\n",
       "      <td>0.929971</td>\n",
       "      <td>0.435632</td>\n",
       "      <td>9987.321617</td>\n",
       "      <td>0.494339</td>\n",
       "      <td>0.239625</td>\n",
       "    </tr>\n",
       "    <tr>\n",
       "      <th>3</th>\n",
       "      <td>Decision Tree (Poisson Criterion)</td>\n",
       "      <td>0.868214</td>\n",
       "      <td>0.227740</td>\n",
       "      <td>11682.877047</td>\n",
       "      <td>0.640474</td>\n",
       "      <td>0.389350</td>\n",
       "    </tr>\n",
       "    <tr>\n",
       "      <th>4</th>\n",
       "      <td>Random Forest</td>\n",
       "      <td>0.946835</td>\n",
       "      <td>0.551743</td>\n",
       "      <td>8900.850818</td>\n",
       "      <td>0.395092</td>\n",
       "      <td>0.251918</td>\n",
       "    </tr>\n",
       "    <tr>\n",
       "      <th>5</th>\n",
       "      <td>K-Nearest Neighbors</td>\n",
       "      <td>0.251188</td>\n",
       "      <td>0.205761</td>\n",
       "      <td>11847.958463</td>\n",
       "      <td>0.045427</td>\n",
       "      <td>0.445985</td>\n",
       "    </tr>\n",
       "    <tr>\n",
       "      <th>6</th>\n",
       "      <td>Neural Network</td>\n",
       "      <td>0.258943</td>\n",
       "      <td>0.223248</td>\n",
       "      <td>11716.802223</td>\n",
       "      <td>0.035695</td>\n",
       "      <td>0.366065</td>\n",
       "    </tr>\n",
       "  </tbody>\n",
       "</table>\n",
       "</div>"
      ],
      "text/plain": [
       "                                      Model  Train R2   Test R2     Test RMSE  \\\n",
       "0   Decision Tree (Squared Error Criterion)  0.945699  0.500591   9394.990453   \n",
       "1    Decision Tree (Friedman MSE Criterion)  0.945699  0.443710   9915.589121   \n",
       "2  Decision Tree (Absolute Error Criterion)  0.929971  0.435632   9987.321617   \n",
       "3         Decision Tree (Poisson Criterion)  0.868214  0.227740  11682.877047   \n",
       "4                             Random Forest  0.946835  0.551743   8900.850818   \n",
       "5                       K-Nearest Neighbors  0.251188  0.205761  11847.958463   \n",
       "6                            Neural Network  0.258943  0.223248  11716.802223   \n",
       "\n",
       "   Variance  Test MAPE  \n",
       "0  0.445108   0.252675  \n",
       "1  0.501989   0.254839  \n",
       "2  0.494339   0.239625  \n",
       "3  0.640474   0.389350  \n",
       "4  0.395092   0.251918  \n",
       "5  0.045427   0.445985  \n",
       "6  0.035695   0.366065  "
      ]
     },
     "execution_count": 152,
     "metadata": {},
     "output_type": "execute_result"
    }
   ],
   "source": [
    "Results"
   ]
  },
  {
   "cell_type": "markdown",
   "metadata": {},
   "source": [
    "Let's look at the models one by one and think about what this data table tells us. The fact that the decision trees perform very well on the training set but not as well on testing data is a red-flag that the model is overfit. This suspicion is confirmed by looking at the train and test $R^2$ metric for each of the decision trees. Thus, the decision trees are likely overfit. Interestingly, even though they are overfit, they generally perform comparatively well on the mean absolute percentage error metric, which tells us the average percent error on our price prediction.\n",
    "\n",
    "The random forest appears to have done the best out of all our models. The mean absolute percentage error is just over 25% which is not too bad, although we'd like to improve upon this. We also see signs of overfitting for the random forest given that $R^2$ is much higher for the training data than the testing data.\n",
    "\n",
    "K-nearest neighbors and the neural network performed the worst on all metrics and I have a hypothesis as to why this is. I believe we could have done better with these two methods had we normalized all of our data points to the same level. This is because of the way we one-hot encoded our categorical data. Since K-nearest neighbors and neural networks usually work best when all of our data is normalized to the same length, they would presumably be more accurate if we took, say mileage, to be mileage/max(mileage). This way the maximum mileage is 1 and the rest of the mileage data is just on a scale from 0 to 1. If we do this, however, we may start to worry that the categorical variables could have too large an effect on our result, thus giving us the opposite problem that we suspect we have here.\n",
    "\n",
    "As an application of this work, one might run new data through the random forest algorithm and see what price the algorithm predicts the car to be. If the car is listed at at least 25% less than what the algorithm predicted, then we can reasonably say that this car has a high potential to be a \"bargain\". Maybe this could help you get a great deal on your next car!"
   ]
  },
  {
   "cell_type": "code",
   "execution_count": null,
   "metadata": {},
   "outputs": [],
   "source": []
  }
 ],
 "metadata": {
  "kernelspec": {
   "display_name": "Python 3",
   "language": "python",
   "name": "python3"
  },
  "language_info": {
   "codemirror_mode": {
    "name": "ipython",
    "version": 3
   },
   "file_extension": ".py",
   "mimetype": "text/x-python",
   "name": "python",
   "nbconvert_exporter": "python",
   "pygments_lexer": "ipython3",
   "version": "3.7.6"
  }
 },
 "nbformat": 4,
 "nbformat_minor": 5
}
